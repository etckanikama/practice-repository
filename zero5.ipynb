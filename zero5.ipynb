{
  "nbformat": 4,
  "nbformat_minor": 0,
  "metadata": {
    "colab": {
      "name": "zero5.ipynb",
      "provenance": [],
      "authorship_tag": "ABX9TyMpFLGKC1+ZzOey/L1UFv7x",
      "include_colab_link": true
    },
    "kernelspec": {
      "name": "python3",
      "display_name": "Python 3"
    },
    "language_info": {
      "name": "python"
    }
  },
  "cells": [
    {
      "cell_type": "markdown",
      "metadata": {
        "id": "view-in-github",
        "colab_type": "text"
      },
      "source": [
        "<a href=\"https://colab.research.google.com/github/etckanikama/practice-repository/blob/main/zero5.ipynb\" target=\"_parent\"><img src=\"https://colab.research.google.com/assets/colab-badge.svg\" alt=\"Open In Colab\"/></a>"
      ]
    },
    {
      "cell_type": "code",
      "metadata": {
        "id": "tj4RQlfZXXt5"
      },
      "source": [
        "# zeroから作るDeepLearningの5章\n",
        "# 参考；https://qiita.com/tatelabo/items/5982fb3e699361eb9772"
      ],
      "execution_count": null,
      "outputs": []
    }
  ]
}