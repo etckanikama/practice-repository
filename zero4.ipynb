{
  "nbformat": 4,
  "nbformat_minor": 0,
  "metadata": {
    "colab": {
      "name": "zero4.ipynb",
      "provenance": [],
      "authorship_tag": "ABX9TyPDpJYKPTMBlJ/XZFQumXMF",
      "include_colab_link": true
    },
    "kernelspec": {
      "name": "python3",
      "display_name": "Python 3"
    },
    "language_info": {
      "name": "python"
    }
  },
  "cells": [
    {
      "cell_type": "markdown",
      "metadata": {
        "id": "view-in-github",
        "colab_type": "text"
      },
      "source": [
        "<a href=\"https://colab.research.google.com/github/etckanikama/practice-repository/blob/main/zero4.ipynb\" target=\"_parent\"><img src=\"https://colab.research.google.com/assets/colab-badge.svg\" alt=\"Open In Colab\"/></a>"
      ]
    },
    {
      "cell_type": "markdown",
      "metadata": {
        "id": "ARrG7y8fL8-Y"
      },
      "source": [
        "ゼロから作るDeepLearning1の４章\n",
        "\n",
        "参考URL：https://qiita.com/tatelabo/items/5982fb3e699361eb9772"
      ]
    },
    {
      "cell_type": "code",
      "metadata": {
        "id": "hkKAS8ehL7pV"
      },
      "source": [
        "# 損失関数：nnの性能の悪さの指標を表してくれる。これによって重みパラメータを決めることができる\n",
        "# 二乗和誤差：損失関数の手法の一つ\n",
        "\n",
        "import numpy as np\n",
        "# 二乗和誤差の式を関数化\n",
        "def mean_squared_error(y, t):\n",
        "  return 0.5 * np.sum((y - t) ** 2)\n",
        "\n"
      ],
      "execution_count": 1,
      "outputs": []
    },
    {
      "cell_type": "code",
      "metadata": {
        "colab": {
          "base_uri": "https://localhost:8080/"
        },
        "id": "P38yustZVxyc",
        "outputId": "dcdb1450-2f32-4589-8def-249a6415cad7"
      },
      "source": [
        "# 2の確率が高い場合\n",
        "t = [0, 0, 1, 0, 0, 0, 0, 0, 0, 0]\n",
        "y = [0.1, 0.05, 0.6, 0.0, 0.05, 0.1, 0.0, 0.1, 0.0, 0.0]\n",
        "mean_squared_error(np.array(y), np.array(t))"
      ],
      "execution_count": 2,
      "outputs": [
        {
          "output_type": "execute_result",
          "data": {
            "text/plain": [
              "0.09750000000000003"
            ]
          },
          "metadata": {
            "tags": []
          },
          "execution_count": 2
        }
      ]
    },
    {
      "cell_type": "code",
      "metadata": {
        "colab": {
          "base_uri": "https://localhost:8080/"
        },
        "id": "uHC7ofy_VycV",
        "outputId": "91f7b92c-f5dd-4227-e204-4f79c3b06485"
      },
      "source": [
        "# 7の確率が高い場合\n",
        "y = [0.1, 0.05, 0.1, 0.0, 0.05, 0.1, 0.0, 0.6, 0.0, 0.0]\n",
        "mean_squared_error(np.array(y), np.array(t))"
      ],
      "execution_count": 3,
      "outputs": [
        {
          "output_type": "execute_result",
          "data": {
            "text/plain": [
              "0.5975"
            ]
          },
          "metadata": {
            "tags": []
          },
          "execution_count": 3
        }
      ]
    },
    {
      "cell_type": "code",
      "metadata": {
        "id": "va5Z0aowV2Gt"
      },
      "source": [
        "# 上の結果から一つ目の例のほうが損失関数が小さい\n",
        "# つまり、一つ目の結果のほうが教師データにより適合していることを指している"
      ],
      "execution_count": null,
      "outputs": []
    }
  ]
}