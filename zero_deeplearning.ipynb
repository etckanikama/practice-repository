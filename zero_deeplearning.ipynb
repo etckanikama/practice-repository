{
  "nbformat": 4,
  "nbformat_minor": 0,
  "metadata": {
    "colab": {
      "name": "zero-deeplearning.ipynb",
      "provenance": [],
      "authorship_tag": "ABX9TyN6tC8e3Vh/yPeH+qV66KLZ",
      "include_colab_link": true
    },
    "kernelspec": {
      "name": "python3",
      "display_name": "Python 3"
    },
    "language_info": {
      "name": "python"
    }
  },
  "cells": [
    {
      "cell_type": "markdown",
      "metadata": {
        "id": "view-in-github",
        "colab_type": "text"
      },
      "source": [
        "<a href=\"https://colab.research.google.com/github/etckanikama/practice-repository/blob/main/zero_deeplearning.ipynb\" target=\"_parent\"><img src=\"https://colab.research.google.com/assets/colab-badge.svg\" alt=\"Open In Colab\"/></a>"
      ]
    },
    {
      "cell_type": "code",
      "metadata": {
        "id": "-8KVTO3m0kPo"
      },
      "source": [
        "# ゼロから作るDeepLearning１のためのプログラム(githubにpush予定)"
      ],
      "execution_count": null,
      "outputs": []
    },
    {
      "cell_type": "code",
      "metadata": {
        "id": "oIzZ0Vnv0utc"
      },
      "source": [
        "# クラス\n",
        "class Man:\n",
        "  def __init__(self,name):\n",
        "    self.name = name\n",
        "    print(\"Initialized!\")\n",
        "  \n",
        "  def hello(self):\n",
        "    print(\"Hello \" + self.name + \"!\")\n",
        "  \n",
        "  def goodbye(self):\n",
        "    print(\"Good-Bye \" + self.name + \"!\")\n",
        "\n",
        "# インスタンス変数m \n",
        "# m = Man(\"Hirayama\")\n",
        "# m.hello()\n",
        "# m.goodbye()"
      ],
      "execution_count": null,
      "outputs": []
    },
    {
      "cell_type": "code",
      "metadata": {
        "colab": {
          "base_uri": "https://localhost:8080/",
          "height": 338
        },
        "id": "H0GVXDIb5eM0",
        "outputId": "ed1df933-627e-4c92-e14b-c49ce7a42e6e"
      },
      "source": [
        "# NumPy\n",
        "import numpy as np\n",
        "import matplotlib.pyplot as plt\n",
        "\n",
        "# データの作成\n",
        "x = np.arange(0, 6.5, 0.1)\n",
        "print(x)\n",
        "y = np.sin(x)\n",
        "plt.plot(x,y)\n",
        "plt.show()\n"
      ],
      "execution_count": null,
      "outputs": [
        {
          "output_type": "stream",
          "text": [
            "[0.  0.1 0.2 0.3 0.4 0.5 0.6 0.7 0.8 0.9 1.  1.1 1.2 1.3 1.4 1.5 1.6 1.7\n",
            " 1.8 1.9 2.  2.1 2.2 2.3 2.4 2.5 2.6 2.7 2.8 2.9 3.  3.1 3.2 3.3 3.4 3.5\n",
            " 3.6 3.7 3.8 3.9 4.  4.1 4.2 4.3 4.4 4.5 4.6 4.7 4.8 4.9 5.  5.1 5.2 5.3\n",
            " 5.4 5.5 5.6 5.7 5.8 5.9 6.  6.1 6.2 6.3 6.4]\n"
          ],
          "name": "stdout"
        },
        {
          "output_type": "display_data",
          "data": {
            "image/png": "[encoded data removed]",
            "text/plain": [
              "<Figure size 432x288 with 1 Axes>"
            ]
          },
          "metadata": {
            "tags": [],
            "needs_background": "light"
          }
        }
      ]
    },
    {
      "cell_type": "code",
      "metadata": {
        "id": "Ro0ZgH63Gt_y",
        "colab": {
          "base_uri": "https://localhost:8080/",
          "height": 265
        },
        "outputId": "01843c4f-f4ab-4188-8985-2cb5c0b5fe24"
      },
      "source": [
        "import numpy as np\n",
        "import matplotlib.pyplot as plt\n",
        "\n",
        "# step関数（階段関数）\n",
        "def step_function(x):\n",
        "  return np.array(x > 0 ,dtype=np.int ) # ある条件で作成したbool型の配列をint型に変換してndarray型にキャスト\n",
        "\n",
        "# step_functionの中身\n",
        "# x = np.array([-1.0,1.0,2.0])\n",
        "# y = x > 0 # bool型の配列yを作成した\n",
        "# y = y.astype(np.int) # bool型をint型で変換した\n",
        "\n",
        "\n",
        "# 描画\n",
        "x = np.arange(-5.0, 5.0, 0.1) # -5.0~5.0の0.1間隔での配列を作成\n",
        "y = step_function(x)\n",
        "plt.plot(x,y)\n",
        "plt.ylim(-0.1, 1.1) #y軸の範囲を指定\n",
        "plt.show()"
      ],
      "execution_count": 8,
      "outputs": [
        {
          "output_type": "display_data",
          "data": {
            "image/png": "[encoded data removed]",
            "text/plain": [
              "<Figure size 432x288 with 1 Axes>"
            ]
          },
          "metadata": {
            "tags": [],
            "needs_background": "light"
          }
        }
      ]
    },
    {
      "cell_type": "code",
      "metadata": {
        "colab": {
          "base_uri": "https://localhost:8080/",
          "height": 265
        },
        "id": "BduVM2OzqbOL",
        "outputId": "094d4448-1f95-42f9-94c0-f820960a9aab"
      },
      "source": [
        "# シグモイド関数\n",
        "def sigmoid(x):\n",
        "  return 1/(1 + np.exp(-x))\n",
        "\n",
        "x = np.arange(-5.0,5.0, 0.1)\n",
        "y = sigmoid(x)\n",
        "\n",
        "plt.plot(x,y)\n",
        "plt.ylim(-0.1,1.1)\n",
        "plt.show()"
      ],
      "execution_count": 10,
      "outputs": [
        {
          "output_type": "display_data",
          "data": {
            "image/png": "[encoded data removed]",
            "text/plain": [
              "<Figure size 432x288 with 1 Axes>"
            ]
          },
          "metadata": {
            "tags": [],
            "needs_background": "light"
          }
        }
      ]
    },
    {
      "cell_type": "code",
      "metadata": {
        "colab": {
          "base_uri": "https://localhost:8080/"
        },
        "id": "55fhoK3V2oG2",
        "outputId": "0f3f4cf0-3345-485a-d486-e9cf6138ae70"
      },
      "source": [
        "#三層ニューラルネットワークの実装 2(入力) x 3(隠れ層) x 2(隠れ層) x 2（出力）\n",
        "# A = XW + B　を実装する\n",
        "X = np.array([1.0,0.5])\n",
        "W1 = np.array([[0.1, 0.3, 0.5],[0.2, 0.4, 0.6]]) #2x3の大きさ\n",
        "B1 = np.array([0.1, 0.2, 0.3])\n",
        "\n",
        "A1 = np.dot(X, W1) + B1\n",
        "Z1 = sigmoid(A1)\n",
        "# print(A1)\n",
        "# print(Z1)\n",
        "# W１とパラメータは同じ\n",
        "W2 = np.array([[0,1,0.4],[0.2,0.5],[0.3,0.6]])#3x2の大きさ\n",
        "B2 = np.array([0.1, 0.2])\n",
        "\n",
        "A2 = np.dot(Z1,W2) + B2\n",
        "Z2 = sigmoid(A2)"
      ],
      "execution_count": 15,
      "outputs": [
        {
          "output_type": "stream",
          "text": [
            "[0.3 0.7 1.1]\n",
            "[0.57444252 0.66818777 0.75026011]\n"
          ],
          "name": "stdout"
        }
      ]
    }
  ]
}