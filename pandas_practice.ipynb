{
  "nbformat": 4,
  "nbformat_minor": 0,
  "metadata": {
    "colab": {
      "name": "pandas_practice.ipynb",
      "provenance": [],
      "mount_file_id": "1pq_-mvTQQQgoieGZBPKqnpfBoNnZYfFG",
      "authorship_tag": "ABX9TyM2x2lCTecV17QI6PXS2S1K",
      "include_colab_link": true
    },
    "kernelspec": {
      "name": "python3",
      "display_name": "Python 3"
    }
  },
  "cells": [
    {
      "cell_type": "markdown",
      "metadata": {
        "id": "view-in-github",
        "colab_type": "text"
      },
      "source": [
        "<a href=\"https://colab.research.google.com/github/etckanikama/practice-repository/blob/main/pandas_practice.ipynb\" target=\"_parent\"><img src=\"https://colab.research.google.com/assets/colab-badge.svg\" alt=\"Open In Colab\"/></a>"
      ]
    },
    {
      "cell_type": "code",
      "metadata": {
        "id": "OxOTwhHosCJF",
        "outputId": "26ede13f-dfe3-431d-bea6-6d0140c1b3fa",
        "colab": {
          "base_uri": "https://localhost:8080/"
        }
      },
      "source": [
        "\n",
        "import pandas as pd\n",
        "import numpy as np\n",
        "print(pd.date_range('2020-11-05 00:00:00','2020-11-05 00:00:30',freq='S' ))"
      ],
      "execution_count": null,
      "outputs": [
        {
          "output_type": "stream",
          "text": [
            "DatetimeIndex(['2020-11-05 00:00:00', '2020-11-05 00:00:01',\n",
            "               '2020-11-05 00:00:02', '2020-11-05 00:00:03',\n",
            "               '2020-11-05 00:00:04', '2020-11-05 00:00:05',\n",
            "               '2020-11-05 00:00:06', '2020-11-05 00:00:07',\n",
            "               '2020-11-05 00:00:08', '2020-11-05 00:00:09',\n",
            "               '2020-11-05 00:00:10', '2020-11-05 00:00:11',\n",
            "               '2020-11-05 00:00:12', '2020-11-05 00:00:13',\n",
            "               '2020-11-05 00:00:14', '2020-11-05 00:00:15',\n",
            "               '2020-11-05 00:00:16', '2020-11-05 00:00:17',\n",
            "               '2020-11-05 00:00:18', '2020-11-05 00:00:19',\n",
            "               '2020-11-05 00:00:20', '2020-11-05 00:00:21',\n",
            "               '2020-11-05 00:00:22', '2020-11-05 00:00:23',\n",
            "               '2020-11-05 00:00:24', '2020-11-05 00:00:25',\n",
            "               '2020-11-05 00:00:26', '2020-11-05 00:00:27',\n",
            "               '2020-11-05 00:00:28', '2020-11-05 00:00:29',\n",
            "               '2020-11-05 00:00:30'],\n",
            "              dtype='datetime64[ns]', freq='S')\n"
          ],
          "name": "stdout"
        }
      ]
    },
    {
      "cell_type": "code",
      "metadata": {
        "id": "6jf0AhqLC3pk",
        "outputId": "4c968bc2-9b9c-45c6-e9b1-8f1e5291a55f",
        "colab": {
          "base_uri": "https://localhost:8080/"
        }
      },
      "source": [
        "# 簡単なデータフレームの作成\n",
        "time = np.array(['2020-10-10','2020-10-12','2020-10-20','2020-10-30 00:00:21','2020-10-30 00:00:21'])\n",
        "value = np.array([0,1,1,3,4])\n",
        "key = np.array([10,20,30,30,50])\n",
        "df = pd.DataFrame({'X':key,\n",
        "                   'Y':value},\n",
        "                  index=pd.to_datetime(time))\n",
        "print(df)\n",
        "\n",
        "print(list(df.index))\n",
        "# ans = df.resample('S').interpolate()\n",
        "# print(ans)\n",
        "# print(type(df.resample('S').interpolate()))\n"
      ],
      "execution_count": null,
      "outputs": [
        {
          "output_type": "stream",
          "text": [
            "                      X  Y\n",
            "2020-10-10 00:00:00  10  0\n",
            "2020-10-12 00:00:00  20  1\n",
            "2020-10-20 00:00:00  30  1\n",
            "2020-10-30 00:00:21  30  3\n",
            "2020-10-30 00:00:21  50  4\n",
            "[Timestamp('2020-10-10 00:00:00'), Timestamp('2020-10-12 00:00:00'), Timestamp('2020-10-20 00:00:00'), Timestamp('2020-10-30 00:00:21'), Timestamp('2020-10-30 00:00:21')]\n"
          ],
          "name": "stdout"
        }
      ]
    },
    {
      "cell_type": "code",
      "metadata": {
        "id": "ZKvSydO6II9j",
        "outputId": "b8de5a12-d4ea-4b90-e58d-f04822658cff",
        "colab": {
          "base_uri": "https://localhost:8080/"
        }
      },
      "source": [
        "# numpyで座標間距離を求めるコード\n",
        "import numpy as np\n",
        "x = np.array([0,10,20,30,40,50,60])\n",
        "y = np.array([10,11,12,13,14,15,16])\n",
        "ax =np.array([x[i] for i in range(3,len(x))])\n",
        "ay = np.array([y[i] for i in range(3,len(y))])\n",
        "\n",
        "bx = np.array([x[i] for i in range(0,len(x)-2)])\n",
        "by = np.array([y[i] for i in range(0,len(y)-2)])\n",
        "print(\"ax={0}\\nay={1}\\nbx={2}\\nby{3}\\n\".format(ax,ay,bx,by))\n",
        "\n",
        "for i in range(len(ax)):\n",
        "  a = np.array([ax[i],ay[i]])\n",
        "  b = np.array([bx[i],by[i]])\n",
        "  u = b-a\n",
        "  ans = np.linalg.norm(u)\n",
        "  print(i,ans)\n",
        "  "
      ],
      "execution_count": 29,
      "outputs": [
        {
          "output_type": "stream",
          "text": [
            "ax=[30 40 50 60]\n",
            "ay=[13 14 15 16]\n",
            "bx=[ 0 10 20 30 40]\n",
            "by[10 11 12 13 14]\n",
            "\n",
            "0 30.14962686336267\n",
            "1 30.14962686336267\n",
            "2 30.14962686336267\n",
            "3 30.14962686336267\n"
          ],
          "name": "stdout"
        }
      ]
    }
  ]
}