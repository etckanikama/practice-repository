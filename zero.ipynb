{
  "nbformat": 4,
  "nbformat_minor": 0,
  "metadata": {
    "colab": {
      "name": "zero.ipynb",
      "provenance": [],
      "mount_file_id": "1d53D8qxbCzKt7Ov_496hZWIfq-Tys4C2",
      "authorship_tag": "ABX9TyN6pQXXQFrOKCtMTJzZDS04",
      "include_colab_link": true
    },
    "kernelspec": {
      "display_name": "Python 3",
      "name": "python3"
    },
    "language_info": {
      "name": "python"
    }
  },
  "cells": [
    {
      "cell_type": "markdown",
      "metadata": {
        "id": "view-in-github",
        "colab_type": "text"
      },
      "source": [
        "<a href=\"https://colab.research.google.com/github/etckanikama/practice-repository/blob/main/zero.ipynb\" target=\"_parent\"><img src=\"https://colab.research.google.com/assets/colab-badge.svg\" alt=\"Open In Colab\"/></a>"
      ]
    },
    {
      "cell_type": "code",
      "metadata": {
        "colab": {
          "base_uri": "https://localhost:8080/"
        },
        "id": "C_gOopVXMakc",
        "outputId": "40db97b3-b3f1-4653-891e-818b4b05a761"
      },
      "source": [
        "import numpy as np\n",
        "import matplotlib.pyplot as plt\n",
        "\n",
        "\n",
        "# シグモイド関数\n",
        "def sigmoid(x):\n",
        "  return 1/(1 + np.exp(-x))\n",
        "\n",
        "#三層ニューラルネットワークの実装 2(入力) x 3(隠れ層) x 2(隠れ層) x 2（出力）\n",
        "# A = XW + B　を実装する\n",
        "X = np.array([1.0,0.5])\n",
        "W1 = np.array([[0.1, 0.3, 0.5],[0.2, 0.4, 0.6]]) #2x3の大きさ\n",
        "B1 = np.array([0.1, 0.2, 0.3])\n",
        "A1 = np.dot(X, W1) + B1\n",
        "Z1 = sigmoid(A1)\n",
        "\n",
        "W2 = np.array([[0.1,0.4],[0.2,0.5],[0.3,0.6]])#3x2の大きさ\n",
        "B2 = np.array([0.1, 0.2])\n",
        "A2 = np.dot(Z1,W2) + B2\n",
        "Z2 = sigmoid(A2)\n",
        "\n",
        "W3 = np.array([[0.1,0.3],[0.2,0.4]])\n",
        "B3 = np.array([0.1, 0.2])\n",
        "A3 = np.dot(Z2,W3) + B3\n",
        "\n",
        "# 恒等関数：入力したものをそのまま出力する関数\n",
        "def identity_function(x):\n",
        "  return x\n",
        "\n",
        "Y = identity_function(A3)\n",
        "print(Y)"
      ],
      "execution_count": null,
      "outputs": [
        {
          "output_type": "stream",
          "text": [
            "[0.31682708 0.69627909]\n"
          ],
          "name": "stdout"
        }
      ]
    },
    {
      "cell_type": "code",
      "metadata": {
        "id": "1dHjX1wOSGmH"
      },
      "source": [
        "# ソフトマックス関数\n",
        "def softmax(a):\n",
        "  c = np.max(a)\n",
        "  exp_a = np.exp(a - c) # オーバーフロー対策\n",
        "  sum_exp_a = np.sum(exp_a)\n",
        "  y = exp_a / sum_exp_a\n",
        "  return y\n",
        "\n"
      ],
      "execution_count": null,
      "outputs": []
    },
    {
      "cell_type": "code",
      "metadata": {
        "colab": {
          "base_uri": "https://localhost:8080/"
        },
        "id": "8z6LlO6Rposp",
        "outputId": "b96a35af-856b-40ea-ff75-50bc8c89c211"
      },
      "source": [
        "#  kerasにあるmnistのデータセットをダウンロード\n",
        "from keras.datasets import mnist\n",
        "(x_train, t_train),(x_test,t_test) = mnist.load_data()\n",
        "print(x_train.shape[1]*x_train.shape[2])\n",
        "print(t_train.shape)\n",
        "print(t_test.shape)"
      ],
      "execution_count": null,
      "outputs": [
        {
          "output_type": "stream",
          "text": [
            "784\n",
            "(60000,)\n",
            "(10000, 28, 28)\n",
            "(10000,)\n"
          ],
          "name": "stdout"
        }
      ]
    },
    {
      "cell_type": "code",
      "metadata": {
        "colab": {
          "base_uri": "https://localhost:8080/",
          "height": 301
        },
        "id": "Bj5YSCdHp7z9",
        "outputId": "b0955ae2-1337-4fd3-b1e7-b6bae6cc0748"
      },
      "source": [
        "# 画像の表示\n",
        "from PIL import Image\n",
        "\n",
        "def img_show(img):\n",
        "    # numpy配列として一次元で格納されたデータをpil用のデータオブジェクトに変換する必要がある\n",
        "    pil_img = Image.fromarray(np.uint8(img))\n",
        "    # print(pil_img)\n",
        "    plt.imshow(np.array(pil_img))\n",
        "\n",
        "(x_train, t_train), (x_test, t_test) = mnist.load_data()\n",
        "\n",
        "img = x_train[0]\n",
        "label = t_train[0]\n",
        "print(label)  # 5\n",
        "print(img.shape)  # (28, 28)\n",
        "# print(img)\n",
        "\n",
        "img_show(img)"
      ],
      "execution_count": null,
      "outputs": [
        {
          "output_type": "stream",
          "text": [
            "5\n",
            "(28, 28)\n"
          ],
          "name": "stdout"
        },
        {
          "output_type": "display_data",
          "data": {
            "image/png": "[encoded data removed]",
            "text/plain": [
              "<Figure size 432x288 with 1 Axes>"
            ]
          },
          "metadata": {
            "tags": []
          }
        }
      ]
    },
    {
      "cell_type": "code",
      "metadata": {
        "colab": {
          "background_save": true
        },
        "id": "X3GQAQXpyyFH"
      },
      "source": [
        "# ネットワークの作成\n",
        "# 入力層 784個（28x28）,出力層 10個のニューロン\n",
        "# 隠れ層：２つ（一個目：50個、二個目：100個のニューロン）\n",
        "# この隠れ層のニューロン数は任意で設定できる"
      ],
      "execution_count": null,
      "outputs": []
    },
    {
      "cell_type": "code",
      "metadata": {
        "id": "4dwKTog5zvrg",
        "colab": {
          "base_uri": "https://localhost:8080/"
        },
        "outputId": "c39dd4b8-9ee3-4c16-c1e3-3ca848665286"
      },
      "source": [
        "from google.colab import drive\n",
        "drive.mount('/content/drive')"
      ],
      "execution_count": 43,
      "outputs": [
        {
          "output_type": "stream",
          "text": [
            "Drive already mounted at /content/drive; to attempt to forcibly remount, call drive.mount(\"/content/drive\", force_remount=True).\n"
          ],
          "name": "stdout"
        }
      ]
    },
    {
      "cell_type": "code",
      "metadata": {
        "colab": {
          "base_uri": "https://localhost:8080/",
          "height": 35
        },
        "id": "vRdhw4cY2iW_",
        "outputId": "a0b40ab9-026a-4434-fb6b-ff9fd2062918"
      },
      "source": [
        "import os \n",
        "os.getcwd()\n",
        "os.chdir('/content/drive/My Drive/colabonotebooks')\n",
        "os.getcwd()"
      ],
      "execution_count": 45,
      "outputs": [
        {
          "output_type": "execute_result",
          "data": {
            "application/vnd.google.colaboratory.intrinsic+json": {
              "type": "string"
            },
            "text/plain": [
              "'/content/drive/My Drive/colabonotebooks'"
            ]
          },
          "metadata": {
            "tags": []
          },
          "execution_count": 45
        }
      ]
    },
    {
      "cell_type": "code",
      "metadata": {
        "colab": {
          "base_uri": "https://localhost:8080/"
        },
        "id": "th9dReJj2jvv",
        "outputId": "4a1bc7da-313b-4082-8c65-765eeb074d55"
      },
      "source": [
        "import numpy as np\n",
        "import pandas as pd\n",
        "import pickle\n",
        "from keras.datasets import mnist\n",
        "import time\n",
        "\n",
        "def get_data():\n",
        "    (x_train, t_train), (x_test, t_test) = mnist.load_data()\n",
        "    return x_test.reshape(10000, 784), t_test\n",
        "\n",
        "\n",
        "def init_network():\n",
        "    # 学習済み重みのパラメータを読み込む：重みとバイアスがディクショナリ型で入っている\n",
        "    with open(\"sample_weight.pkl\",'rb') as f:\n",
        "      network = pickle.load(f)\n",
        "    \n",
        "    return network\n",
        "\n",
        "\n",
        "def predict(network, x):\n",
        "    W1, W2, W3 = network['W1'], network['W2'], network['W3']\n",
        "    b1, b2, b3 = network['b1'], network['b2'], network['b3']\n",
        "\n",
        "    a1 = np.dot(x, W1) + b1\n",
        "    z1 = sigmoid(a1)\n",
        "    a2 = np.dot(z1, W2) + b2\n",
        "    z2 = sigmoid(a2)\n",
        "    a3 = np.dot(z2, W3) + b3\n",
        "    y = softmax(a3)\n",
        "\n",
        "    return y\n",
        "\n",
        "# \n",
        "x, t = get_data()\n",
        "network = init_network()\n",
        "accuracy_cnt = 0\n",
        "\n",
        "t1 = time.time()\n",
        "for i in range(len(x)):\n",
        "    y = predict(network, x[i])\n",
        "    p= np.argmax(y) # 最も確率の高い要素のインデックスを取得\n",
        "    if p == t[i]:\n",
        "        accuracy_cnt += 1\n",
        "\n",
        "t2 = time.time()\n",
        "print('time: ' + str(t2 - t1))\n",
        "print(\"Accuracy:\" + str(float(accuracy_cnt) / len(x)))"
      ],
      "execution_count": 47,
      "outputs": [
        {
          "output_type": "stream",
          "text": [
            "/usr/local/lib/python3.7/dist-packages/ipykernel_launcher.py:7: RuntimeWarning: overflow encountered in exp\n",
            "  import sys\n"
          ],
          "name": "stderr"
        },
        {
          "output_type": "stream",
          "text": [
            "time: 0.8193418979644775\n",
            "Accuracy:0.9207\n"
          ],
          "name": "stdout"
        }
      ]
    },
    {
      "cell_type": "code",
      "metadata": {
        "colab": {
          "base_uri": "https://localhost:8080/"
        },
        "id": "qxy3DYYB7H0N",
        "outputId": "5335ec55-9099-4ac9-882d-51922aa85332"
      },
      "source": [
        "y\n"
      ],
      "execution_count": 52,
      "outputs": [
        {
          "output_type": "execute_result",
          "data": {
            "text/plain": [
              "array([7.18617885e-05, 6.99372379e-07, 4.32665547e-04, 3.58768062e-07,\n",
              "       1.75180752e-03, 1.07496104e-04, 9.97633696e-01, 1.28286771e-07,\n",
              "       9.95844516e-07, 3.49772051e-07], dtype=float32)"
            ]
          },
          "metadata": {
            "tags": []
          },
          "execution_count": 52
        }
      ]
    },
    {
      "cell_type": "code",
      "metadata": {
        "colab": {
          "base_uri": "https://localhost:8080/"
        },
        "id": "yxPqf4G7_ffc",
        "outputId": "2389fd8f-0d6a-4392-bd7f-1caac63a4425"
      },
      "source": [
        "x,_ = get_data()\n",
        "network = init_network()\n",
        "W1,W2,W3 =  network['W1'], network['W2'], network['W3']\n",
        "print(x.shape)\n",
        "print(x[0].shape)\n",
        "print(W1.shape)\n",
        "print(W2.shape)\n",
        "print(W3.shape)\n",
        "print(y.shape)"
      ],
      "execution_count": 58,
      "outputs": [
        {
          "output_type": "stream",
          "text": [
            "(10000, 784)\n",
            "(784,)\n",
            "(784, 50)\n",
            "(50, 100)\n",
            "(100, 10)\n",
            "(10,)\n"
          ],
          "name": "stdout"
        }
      ]
    },
    {
      "cell_type": "markdown",
      "metadata": {
        "id": "TQ1wRg3-Bjd-"
      },
      "source": [
        "・バッチ：まとまりのある複数の入力データ\n",
        "\n",
        "・バッチ処理:一枚当たりの処理時間を大幅に短縮できる"
      ]
    },
    {
      "cell_type": "code",
      "metadata": {
        "colab": {
          "base_uri": "https://localhost:8080/"
        },
        "id": "ZUCkrBHzCBYL",
        "outputId": "6fa7f22d-153c-4008-954a-cdfc4bb461a9"
      },
      "source": [
        "import numpy as np\n",
        "import pandas as pd\n",
        "import pickle\n",
        "from keras.datasets import mnist\n",
        "import time\n",
        "\n",
        "def get_data():\n",
        "    (x_train, t_train), (x_test, t_test) = mnist.load_data()\n",
        "    return x_test.reshape(10000, 784), t_test\n",
        "\n",
        "\n",
        "def init_network():\n",
        "    # 学習済み重みのパラメータを読み込む：重みとバイアスがディクショナリ型で入っている\n",
        "    with open(\"sample_weight.pkl\",'rb') as f:\n",
        "      network = pickle.load(f)\n",
        "    \n",
        "    return network\n",
        "\n",
        "\n",
        "def predict(network, x):\n",
        "    W1, W2, W3 = network['W1'], network['W2'], network['W3']\n",
        "    b1, b2, b3 = network['b1'], network['b2'], network['b3']\n",
        "\n",
        "    a1 = np.dot(x, W1) + b1\n",
        "    z1 = sigmoid(a1)\n",
        "    a2 = np.dot(z1, W2) + b2\n",
        "    z2 = sigmoid(a2)\n",
        "    a3 = np.dot(z2, W3) + b3\n",
        "    y = softmax(a3)\n",
        "\n",
        "    return y\n",
        "\n",
        "\n",
        "x, t = get_data()\n",
        "network = init_network()\n",
        "\n",
        "batch_size = 100 # バッチの数\n",
        "accuracy_cnt = 0\n",
        "\n",
        "t1 = time.time()\n",
        "for i in range(0,len(x),batch_size):\n",
        "    x_batch = x[i:i+batch_size] # x[0:100],x[100:200]....\n",
        "    y_batch = predict(network, x_batch)\n",
        "    p= np.argmax(y_batch,axis=1) # 最も確率の高い要素のインデックスを取得\n",
        "    # if p == t[i]:\n",
        "    #     accuracy_cnt += 1\n",
        "    accuracy_cnt += np.sum(p == t[i:i+batch_size])\n",
        "\n",
        "t2 = time.time()\n",
        "print('time: ' + str(t2 - t1))\n",
        "print(\"Accuracy:\" + str(float(accuracy_cnt) / len(x)))"
      ],
      "execution_count": 60,
      "outputs": [
        {
          "output_type": "stream",
          "text": [
            "time: 0.07541918754577637\n",
            "Accuracy:0.9207\n"
          ],
          "name": "stdout"
        },
        {
          "output_type": "stream",
          "text": [
            "/usr/local/lib/python3.7/dist-packages/ipykernel_launcher.py:7: RuntimeWarning: overflow encountered in exp\n",
            "  import sys\n"
          ],
          "name": "stderr"
        }
      ]
    },
    {
      "cell_type": "code",
      "metadata": {
        "colab": {
          "base_uri": "https://localhost:8080/"
        },
        "id": "b_EsLnXwD9Cc",
        "outputId": "189ae355-39db-48bb-cfb6-d4e719b68560"
      },
      "source": [
        "print(y)\n",
        "print(p)\n",
        "print(accuracy_cnt)"
      ],
      "execution_count": 64,
      "outputs": [
        {
          "output_type": "stream",
          "text": [
            "[7.18617885e-05 6.99372379e-07 4.32665547e-04 3.58768062e-07\n",
            " 1.75180752e-03 1.07496104e-04 9.97633696e-01 1.28286771e-07\n",
            " 9.95844516e-07 3.49772051e-07]\n",
            "[8 4 0 1 2 9 4 5 6 7 8 0 1 2 3 4 9 8 9 7 8 6 4 1 9 3 8 4 4 7 0 1 9 2 8 7 8\n",
            " 2 6 0 0 6 3 3 8 9 1 4 0 6 1 0 0 6 2 1 1 7 7 8 4 6 0 7 0 3 6 8 7 1 3 2 4 9\n",
            " 4 2 6 4 1 7 2 6 2 0 1 2 8 4 5 6 7 8 9 0 1 2 3 4 8 6]\n",
            "9207\n"
          ],
          "name": "stdout"
        }
      ]
    }
  ]
}