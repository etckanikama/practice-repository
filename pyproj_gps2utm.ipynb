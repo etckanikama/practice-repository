{
  "nbformat": 4,
  "nbformat_minor": 0,
  "metadata": {
    "colab": {
      "name": "pyproj_gps2utm.ipynb",
      "provenance": [],
      "authorship_tag": "ABX9TyOlko+VjD3R8vh1/x3r28t+",
      "include_colab_link": true
    },
    "kernelspec": {
      "name": "python3",
      "display_name": "Python 3"
    }
  },
  "cells": [
    {
      "cell_type": "markdown",
      "metadata": {
        "id": "view-in-github",
        "colab_type": "text"
      },
      "source": [
        "<a href=\"https://colab.research.google.com/github/etckanikama/practice-repository/blob/main/pyproj_gps2utm.ipynb\" target=\"_parent\"><img src=\"https://colab.research.google.com/assets/colab-badge.svg\" alt=\"Open In Colab\"/></a>"
      ]
    },
    {
      "cell_type": "code",
      "metadata": {
        "id": "rbKdcWfh1Cck",
        "outputId": "3a8f5869-ccd6-45cf-bd72-698ddd1b8e2a",
        "colab": {
          "base_uri": "https://localhost:8080/"
        }
      },
      "source": [
        "#gps情報（緯度、経度）は角度であるからutm座標系(単位はm)に変換する必要がある\n",
        "# その時使用するのがpyproj,このときのutmのゾーンはutm変換サイトなどでzone番号を割り出せる\n",
        "!pip install pyproj==2.6.1\n",
        "from pyproj import  Proj\n",
        "x=[]\n",
        "converter = Proj(proj='utm',zone=48)\n",
        "utm_x, utm_y = converter(104.388098,13.6625)\n",
        "x.append(utm_x)\n",
        "print(utm_x,utm_y)\n",
        "print(x)\n"
      ],
      "execution_count": 7,
      "outputs": [
        {
          "output_type": "stream",
          "text": [
            "Requirement already satisfied: pyproj==2.6.1 in /usr/local/lib/python3.6/dist-packages (2.6.1)\n",
            "433823.80561618705 1510484.4660829864\n",
            "[433823.80561618705]\n"
          ],
          "name": "stdout"
        }
      ]
    }
  ]
}